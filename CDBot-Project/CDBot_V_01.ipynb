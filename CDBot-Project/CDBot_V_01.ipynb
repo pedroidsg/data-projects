{
 "cells": [
  {
   "cell_type": "code",
   "execution_count": 1,
   "id": "e6410ecd",
   "metadata": {},
   "outputs": [],
   "source": [
    "# PROJETO CDBot"
   ]
  },
  {
   "cell_type": "code",
   "execution_count": 2,
   "id": "a5974598",
   "metadata": {},
   "outputs": [],
   "source": [
    "# PARTE 1\n",
    "# Automação do acesso"
   ]
  },
  {
   "cell_type": "code",
   "execution_count": 9,
   "id": "0b118a75",
   "metadata": {},
   "outputs": [
    {
     "data": {
      "text/plain": [
       "'https://dadosabertos.camara.leg.br/api/v2/proposicoes?siglaTipo=PEC&siglaTipo=PLP&siglaTipo=PL&dataInicio=2021-09-21&dataFim=2021-09-24&ordem=ASC&ordenarPor=id'"
      ]
     },
     "execution_count": 9,
     "metadata": {},
     "output_type": "execute_result"
    }
   ],
   "source": [
    "import time\n",
    "from selenium import webdriver\n",
    "from selenium.webdriver.common.by import By\n",
    "from selenium.webdriver.support.ui import Select\n",
    "\n",
    "import bs4\n",
    "import pandas as pd\n",
    "import requests\n",
    "import urllib.request\n",
    "\n",
    "from urllib.request import urlopen\n",
    "from bs4 import BeautifulSoup\n",
    "\n",
    "proposicoes = webdriver.Chrome()\n",
    "proposicoes.implicitly_wait(10)\n",
    "\n",
    "proposicoes.get('https://dadosabertos.camara.leg.br')\n",
    "proposicoes.find_element(By.XPATH, '//*[@id=\"so-api\"]/div/div/section[2]/a/div/h2').click()\n",
    "proposicoes.find_element(By.XPATH, '//*[@id=\"operations-Proposições-searchUsingGET_2\"]/div/div').click()\n",
    "proposicoes.find_element(By.XPATH, '//*[@id=\"operations-Proposições-searchUsingGET_2\"]/div[2]/div/div[2]/div[1]/div[2]/button').click()\n",
    "proposicoes.find_element(By.XPATH, '//*[@id=\"operations-Proposições-searchUsingGET_2\"]/div[2]/div/div[2]/div[2]/table/tbody/tr[2]/td[2]/div[2]/button').click()\n",
    "proposicoes.find_element(By.XPATH, '//*[@id=\"operations-Proposições-searchUsingGET_2\"]/div[2]/div/div[2]/div[2]/table/tbody/tr[2]/td[2]/div[2]/div/input').send_keys('PEC')\n",
    "proposicoes.find_element(By.XPATH, '//*[@id=\"operations-Proposições-searchUsingGET_2\"]/div[2]/div/div[2]/div[2]/table/tbody/tr[2]/td[2]/div[2]/button').click()\n",
    "proposicoes.find_element(By.XPATH, '//*[@id=\"operations-Proposições-searchUsingGET_2\"]/div[2]/div/div[2]/div[2]/table/tbody/tr[2]/td[2]/div[2]/div[2]/input').send_keys('PLP')\n",
    "proposicoes.find_element(By.XPATH, '//*[@id=\"operations-Proposições-searchUsingGET_2\"]/div[2]/div/div[2]/div[2]/table/tbody/tr[2]/td[2]/div[2]/button').click()\n",
    "proposicoes.find_element(By.XPATH, '//*[@id=\"operations-Proposições-searchUsingGET_2\"]/div[2]/div/div[2]/div[2]/table/tbody/tr[2]/td[2]/div[2]/div[3]/input').send_keys('PL')\n",
    "proposicoes.find_element(By.XPATH, '//*[@id=\"operations-Proposições-searchUsingGET_2\"]/div[2]/div/div[2]/div[2]/table/tbody/tr[12]/td[2]/input').send_keys('2021-09-21')\n",
    "proposicoes.find_element(By.XPATH, '//*[@id=\"operations-Proposições-searchUsingGET_2\"]/div[2]/div/div[2]/div[2]/table/tbody/tr[13]/td[2]/input').send_keys('2021-09-24')\n",
    "proposicoes.find_element(By.XPATH, '//*[@id=\"operations-Proposições-searchUsingGET_2\"]/div[2]/div/div[3]/button').click()\n",
    "proposicoes.find_element(By.CLASS_NAME, 'request-url').text\n",
    "\n",
    "request_url = proposicoes.find_element(By.CLASS_NAME, 'request-url').text\n",
    "request_url"
   ]
  },
  {
   "cell_type": "code",
   "execution_count": 4,
   "id": "b8a8cb04",
   "metadata": {},
   "outputs": [],
   "source": [
    "# URL - resultado da automação"
   ]
  },
  {
   "cell_type": "code",
   "execution_count": 10,
   "id": "f2efcd09",
   "metadata": {},
   "outputs": [
    {
     "data": {
      "text/plain": [
       "'https://dadosabertos.camara.leg.br/api/v2/proposicoes?siglaTipo=PEC&siglaTipo=PLP&siglaTipo=PL&dataInicio=2021-09-21&dataFim=2021-09-24&ordem=ASC&ordenarPor=id'"
      ]
     },
     "execution_count": 10,
     "metadata": {},
     "output_type": "execute_result"
    }
   ],
   "source": [
    "request_url"
   ]
  },
  {
   "cell_type": "code",
   "execution_count": 11,
   "id": "c641768e",
   "metadata": {},
   "outputs": [],
   "source": [
    "# PARTE 2\n",
    "# Extração e tratamento de dados"
   ]
  },
  {
   "cell_type": "code",
   "execution_count": 12,
   "id": "48d9366d",
   "metadata": {},
   "outputs": [
    {
     "data": {
      "text/plain": [
       "{\"dados\":[{\"id\":15419,\"uri\":\"https://dadosabertos.camara.leg.br/api/v2/proposicoes/15419\",\"siglaTipo\":\"PL\",\"codTipo\":139,\"numero\":407,\"ano\":1999,\"ementa\":\"Dá nova redação ao art. 7º e ao art. 12 da Lei nº 8.935, de 18 de novembro de 1994, ampliando a competência dos oficiais de registro civil das pessoas naturais e de interdições e tutelas.\"},{\"id\":15646,\"uri\":\"https://dadosabertos.camara.leg.br/api/v2/proposicoes/15646\",\"siglaTipo\":\"PL\",\"codTipo\":139,\"numero\":606,\"ano\":1999,\"ementa\":\"Dispõe sobre a suspensão do pagamento das prestações habitacionais do Sistema Financeiro da Habitação pelos mutuários desempregados das Regiões Norte, Nordeste e Centro-Oeste.\"},{\"id\":19217,\"uri\":\"https://dadosabertos.camara.leg.br/api/v2/proposicoes/19217\",\"siglaTipo\":\"PL\",\"codTipo\":139,\"numero\":3174,\"ano\":1997,\"ementa\":\"Altera a Lei nº 5.700, de 1º de setembro de 1971, que dispõe sobre a forma e a apresentação dos Símbolos Nacionais e dá outras providências.\"},{\"id\":19886,\"uri\":\"https://dadosabertos.camara.leg.br/api/v2/proposicoes/19886\",\"siglaTipo\":\"PL\",\"codTipo\":139,\"numero\":3587,\"ano\":2000,\"ementa\":\"Dispõe sobre aerolevantamento e levantamento espacial no território nacional, e dá outras providências.\"},{\"id\":20718,\"uri\":\"https://dadosabertos.camara.leg.br/api/v2/proposicoes/20718\",\"siglaTipo\":\"PL\",\"codTipo\":139,\"numero\":4186,\"ano\":1998,\"ementa\":\"Modifica a Lei nº 9.612, de 19 de fevereiro de 1998, que \\\"Institui o Serviço de Radiodifusão Comunitária e dá outras providências\\\".\"},{\"id\":20888,\"uri\":\"https://dadosabertos.camara.leg.br/api/v2/proposicoes/20888\",\"siglaTipo\":\"PL\",\"codTipo\":139,\"numero\":4445,\"ano\":1998,\"ementa\":\"Revoga a Lei nº 7.960, de 1989 que dispõe sobre prisão temporária.\"},{\"id\":20956,\"uri\":\"https://dadosabertos.camara.leg.br/api/v2/proposicoes/20956\",\"siglaTipo\":\"PL\",\"codTipo\":139,\"numero\":4550,\"ano\":1998,\"ementa\":\"Altera o art. 389 do Decreto-Lei nº 5.452, de 1º de maio de 1943 (Consolidação das Leis do Trabalho - CLT).\"},{\"id\":336532,\"uri\":\"https://dadosabertos.camara.leg.br/api/v2/proposicoes/336532\",\"siglaTipo\":\"PL\",\"codTipo\":139,\"numero\":7576,\"ano\":2006,\"ementa\":\"Altera a Lei nº 9.250, de 26 de dezembro de 1995, que altera a legislação do imposto de renda das pessoas físicas e dá outras providências, para fixar prazo e encargos financeiros relativos ao valor a restituir do imposto de renda das pessoas físicas pago a maior.\"},{\"id\":339301,\"uri\":\"https://dadosabertos.camara.leg.br/api/v2/proposicoes/339301\",\"siglaTipo\":\"PL\",\"codTipo\":139,\"numero\":7700,\"ano\":2006,\"ementa\":\"Altera o art. 2º da Lei nº 11.096, de 13 de janeiro de 2005, para estender o atendimento do Programa Universidade para Todos aos estudantes beneficiados com bolsa parcial no ensino médio privado.\"},{\"id\":340144,\"uri\":\"https://dadosabertos.camara.leg.br/api/v2/proposicoes/340144\",\"siglaTipo\":\"PL\",\"codTipo\":139,\"numero\":64,\"ano\":2007,\"ementa\":\"Cria o Índice Nacional de Responsabilidade Social - INRS e o Cadastro Nacional de Inadimplentes Sociais - CNIS.\"},{\"id\":345103,\"uri\":\"https://dadosabertos.camara.leg.br/api/v2/proposicoes/345103\",\"siglaTipo\":\"PL\",\"codTipo\":139,\"numero\":478,\"ano\":2007,\"ementa\":\"Dispõe sobre o Estatuto do Nascituro e dá outras providências.\"},{\"id\":359891,\"uri\":\"https://dadosabertos.camara.leg.br/api/v2/proposicoes/359891\",\"siglaTipo\":\"PL\",\"codTipo\":139,\"numero\":1609,\"ano\":2007,\"ementa\":\"Dispõe sobre a substituição gradativa, em todo o território nacional, de combustíveis derivados de petróleo por outros produzidos a partir da biomassa, e dá outras providências.\"},{\"id\":363834,\"uri\":\"https://dadosabertos.camara.leg.br/api/v2/proposicoes/363834\",\"siglaTipo\":\"PL\",\"codTipo\":139,\"numero\":1836,\"ano\":2007,\"ementa\":\"Altera o § 1º do art. 19-I da Lei nº 8.080, de 19 de setembro de 1990, incluído pela Lei nº 10.424, de 15 de abril de 2002, para acrescentar ao Sistema Único de Saúde - SUS o fornecimento de medicamentos de uso continuado não sujeitos a controle especial, entre outros, necessários ao cuidado integral dos pacientes em seu domicílio.\"},{\"id\":404399,\"uri\":\"https://dadosabertos.camara.leg.br/api/v2/proposicoes/404399\",\"siglaTipo\":\"PL\",\"codTipo\":139,\"numero\":3723,\"ano\":2008,\"ementa\":\"Dispõe sobre o tratamento tributário aplicável às sociedades cooperativas em geral no âmbito federal.\"},{\"id\":415684,\"uri\":\"https://dadosabertos.camara.leg.br/api/v2/proposicoes/415684\",\"siglaTipo\":\"PL\",\"codTipo\":139,\"numero\":4294,\"ano\":2008,\"ementa\":\"Acrescenta parágrafo ao art. 1.632 da Lei nº 10.406, de 10 de janeiro de 2002 -  Código Civil e ao art. 3° da Lei nº 10.741, de 1ª de outubro de 2003 - Estatuto do Idoso,  de modo a estabelecer a indenização por dano moral em razão do abandono afetivo.\"}],\"links\":[{\"rel\":\"self\",\"href\":\"https://dadosabertos.camara.leg.br/api/v2/proposicoes?siglaTipo=PEC&amp;siglaTipo=PLP&amp;siglaTipo=PL&amp;dataInicio=2021-09-21&amp;dataFim=2021-09-24&amp;ordem=ASC&amp;ordenarPor=id\"},{\"rel\":\"next\",\"href\":\"https://dadosabertos.camara.leg.br/api/v2/proposicoes?siglaTipo=PEC&amp;siglaTipo=PLP&amp;siglaTipo=PL&amp;dataInicio=2021-09-21&amp;dataFim=2021-09-24&amp;ordem=ASC&amp;ordenarPor=id&amp;pagina=2&amp;itens=15\"},{\"rel\":\"first\",\"href\":\"https://dadosabertos.camara.leg.br/api/v2/proposicoes?siglaTipo=PEC&amp;siglaTipo=PLP&amp;siglaTipo=PL&amp;dataInicio=2021-09-21&amp;dataFim=2021-09-24&amp;ordem=ASC&amp;ordenarPor=id&amp;pagina=1&amp;itens=15\"},{\"rel\":\"last\",\"href\":\"https://dadosabertos.camara.leg.br/api/v2/proposicoes?siglaTipo=PEC&amp;siglaTipo=PLP&amp;siglaTipo=PL&amp;dataInicio=2021-09-21&amp;dataFim=2021-09-24&amp;ordem=ASC&amp;ordenarPor=id&amp;pagina=58&amp;itens=15\"}]}"
      ]
     },
     "execution_count": 12,
     "metadata": {},
     "output_type": "execute_result"
    }
   ],
   "source": [
    "response = urlopen(request_url)\n",
    "html = response.read()\n",
    "html = html.decode('utf-8')\n",
    "html.split()\n",
    "\" \" .join(html.split())\n",
    "\" \" .join(html.split()).replace('> <', '><')\n",
    "\n",
    "def data_html(input):\n",
    "    return \" \".join(input.split()).replace('> <', '><')\n",
    "\n",
    "pcontent = BeautifulSoup(html, 'html.parser')\n",
    "pcontent"
   ]
  },
  {
   "cell_type": "code",
   "execution_count": 13,
   "id": "a98da45d",
   "metadata": {},
   "outputs": [],
   "source": [
    "# Criação de dicionário"
   ]
  },
  {
   "cell_type": "code",
   "execution_count": 19,
   "id": "6fe9699e",
   "metadata": {
    "scrolled": false
   },
   "outputs": [
    {
     "data": {
      "text/plain": [
       "{'dados': [{'id': 15419,\n",
       "   'uri': 'https://dadosabertos.camara.leg.br/api/v2/proposicoes/15419',\n",
       "   'siglaTipo': 'PL',\n",
       "   'codTipo': 139,\n",
       "   'numero': 407,\n",
       "   'ano': 1999,\n",
       "   'ementa': 'Dá nova redação ao art. 7º e ao art. 12 da Lei nº 8.935, de 18 de novembro de 1994, ampliando a competência dos oficiais de registro civil das pessoas naturais e de interdições e tutelas.'},\n",
       "  {'id': 15646,\n",
       "   'uri': 'https://dadosabertos.camara.leg.br/api/v2/proposicoes/15646',\n",
       "   'siglaTipo': 'PL',\n",
       "   'codTipo': 139,\n",
       "   'numero': 606,\n",
       "   'ano': 1999,\n",
       "   'ementa': 'Dispõe sobre a suspensão do pagamento das prestações habitacionais do Sistema Financeiro da Habitação pelos mutuários desempregados das Regiões Norte, Nordeste e Centro-Oeste.'},\n",
       "  {'id': 19217,\n",
       "   'uri': 'https://dadosabertos.camara.leg.br/api/v2/proposicoes/19217',\n",
       "   'siglaTipo': 'PL',\n",
       "   'codTipo': 139,\n",
       "   'numero': 3174,\n",
       "   'ano': 1997,\n",
       "   'ementa': 'Altera a Lei nº 5.700, de 1º de setembro de 1971, que dispõe sobre a forma e a apresentação dos Símbolos Nacionais e dá outras providências.'},\n",
       "  {'id': 19886,\n",
       "   'uri': 'https://dadosabertos.camara.leg.br/api/v2/proposicoes/19886',\n",
       "   'siglaTipo': 'PL',\n",
       "   'codTipo': 139,\n",
       "   'numero': 3587,\n",
       "   'ano': 2000,\n",
       "   'ementa': 'Dispõe sobre aerolevantamento e levantamento espacial no território nacional, e dá outras providências.'},\n",
       "  {'id': 20718,\n",
       "   'uri': 'https://dadosabertos.camara.leg.br/api/v2/proposicoes/20718',\n",
       "   'siglaTipo': 'PL',\n",
       "   'codTipo': 139,\n",
       "   'numero': 4186,\n",
       "   'ano': 1998,\n",
       "   'ementa': 'Modifica a Lei nº 9.612, de 19 de fevereiro de 1998, que \"Institui o Serviço de Radiodifusão Comunitária e dá outras providências\".'},\n",
       "  {'id': 20888,\n",
       "   'uri': 'https://dadosabertos.camara.leg.br/api/v2/proposicoes/20888',\n",
       "   'siglaTipo': 'PL',\n",
       "   'codTipo': 139,\n",
       "   'numero': 4445,\n",
       "   'ano': 1998,\n",
       "   'ementa': 'Revoga a Lei nº 7.960, de 1989 que dispõe sobre prisão temporária.'},\n",
       "  {'id': 20956,\n",
       "   'uri': 'https://dadosabertos.camara.leg.br/api/v2/proposicoes/20956',\n",
       "   'siglaTipo': 'PL',\n",
       "   'codTipo': 139,\n",
       "   'numero': 4550,\n",
       "   'ano': 1998,\n",
       "   'ementa': 'Altera o art. 389 do Decreto-Lei nº 5.452, de 1º de maio de 1943 (Consolidação das Leis do Trabalho - CLT).'},\n",
       "  {'id': 336532,\n",
       "   'uri': 'https://dadosabertos.camara.leg.br/api/v2/proposicoes/336532',\n",
       "   'siglaTipo': 'PL',\n",
       "   'codTipo': 139,\n",
       "   'numero': 7576,\n",
       "   'ano': 2006,\n",
       "   'ementa': 'Altera a Lei nº 9.250, de 26 de dezembro de 1995, que altera a legislação do imposto de renda das pessoas físicas e dá outras providências, para fixar prazo e encargos financeiros relativos ao valor a restituir do imposto de renda das pessoas físicas pago a maior.'},\n",
       "  {'id': 339301,\n",
       "   'uri': 'https://dadosabertos.camara.leg.br/api/v2/proposicoes/339301',\n",
       "   'siglaTipo': 'PL',\n",
       "   'codTipo': 139,\n",
       "   'numero': 7700,\n",
       "   'ano': 2006,\n",
       "   'ementa': 'Altera o art. 2º da Lei nº 11.096, de 13 de janeiro de 2005, para estender o atendimento do Programa Universidade para Todos aos estudantes beneficiados com bolsa parcial no ensino médio privado.'},\n",
       "  {'id': 340144,\n",
       "   'uri': 'https://dadosabertos.camara.leg.br/api/v2/proposicoes/340144',\n",
       "   'siglaTipo': 'PL',\n",
       "   'codTipo': 139,\n",
       "   'numero': 64,\n",
       "   'ano': 2007,\n",
       "   'ementa': 'Cria o Índice Nacional de Responsabilidade Social - INRS e o Cadastro Nacional de Inadimplentes Sociais - CNIS.'},\n",
       "  {'id': 345103,\n",
       "   'uri': 'https://dadosabertos.camara.leg.br/api/v2/proposicoes/345103',\n",
       "   'siglaTipo': 'PL',\n",
       "   'codTipo': 139,\n",
       "   'numero': 478,\n",
       "   'ano': 2007,\n",
       "   'ementa': 'Dispõe sobre o Estatuto do Nascituro e dá outras providências.'},\n",
       "  {'id': 359891,\n",
       "   'uri': 'https://dadosabertos.camara.leg.br/api/v2/proposicoes/359891',\n",
       "   'siglaTipo': 'PL',\n",
       "   'codTipo': 139,\n",
       "   'numero': 1609,\n",
       "   'ano': 2007,\n",
       "   'ementa': 'Dispõe sobre a substituição gradativa, em todo o território nacional, de combustíveis derivados de petróleo por outros produzidos a partir da biomassa, e dá outras providências.'},\n",
       "  {'id': 363834,\n",
       "   'uri': 'https://dadosabertos.camara.leg.br/api/v2/proposicoes/363834',\n",
       "   'siglaTipo': 'PL',\n",
       "   'codTipo': 139,\n",
       "   'numero': 1836,\n",
       "   'ano': 2007,\n",
       "   'ementa': 'Altera o § 1º do art. 19-I da Lei nº 8.080, de 19 de setembro de 1990, incluído pela Lei nº 10.424, de 15 de abril de 2002, para acrescentar ao Sistema Único de Saúde - SUS o fornecimento de medicamentos de uso continuado não sujeitos a controle especial, entre outros, necessários ao cuidado integral dos pacientes em seu domicílio.'},\n",
       "  {'id': 404399,\n",
       "   'uri': 'https://dadosabertos.camara.leg.br/api/v2/proposicoes/404399',\n",
       "   'siglaTipo': 'PL',\n",
       "   'codTipo': 139,\n",
       "   'numero': 3723,\n",
       "   'ano': 2008,\n",
       "   'ementa': 'Dispõe sobre o tratamento tributário aplicável às sociedades cooperativas em geral no âmbito federal.'},\n",
       "  {'id': 415684,\n",
       "   'uri': 'https://dadosabertos.camara.leg.br/api/v2/proposicoes/415684',\n",
       "   'siglaTipo': 'PL',\n",
       "   'codTipo': 139,\n",
       "   'numero': 4294,\n",
       "   'ano': 2008,\n",
       "   'ementa': 'Acrescenta parágrafo ao art. 1.632 da Lei nº 10.406, de 10 de janeiro de 2002 -  Código Civil e ao art. 3° da Lei nº 10.741, de 1ª de outubro de 2003 - Estatuto do Idoso,  de modo a estabelecer a indenização por dano moral em razão do abandono afetivo.'}]}"
      ]
     },
     "execution_count": 19,
     "metadata": {},
     "output_type": "execute_result"
    }
   ],
   "source": [
    "pdict = {\"dados\":[{\"id\":15419,\"uri\":\"https://dadosabertos.camara.leg.br/api/v2/proposicoes/15419\",\"siglaTipo\":\"PL\",\"codTipo\":139,\"numero\":407,\"ano\":1999,\"ementa\":\"Dá nova redação ao art. 7º e ao art. 12 da Lei nº 8.935, de 18 de novembro de 1994, ampliando a competência dos oficiais de registro civil das pessoas naturais e de interdições e tutelas.\"},{\"id\":15646,\"uri\":\"https://dadosabertos.camara.leg.br/api/v2/proposicoes/15646\",\"siglaTipo\":\"PL\",\"codTipo\":139,\"numero\":606,\"ano\":1999,\"ementa\":\"Dispõe sobre a suspensão do pagamento das prestações habitacionais do Sistema Financeiro da Habitação pelos mutuários desempregados das Regiões Norte, Nordeste e Centro-Oeste.\"},{\"id\":19217,\"uri\":\"https://dadosabertos.camara.leg.br/api/v2/proposicoes/19217\",\"siglaTipo\":\"PL\",\"codTipo\":139,\"numero\":3174,\"ano\":1997,\"ementa\":\"Altera a Lei nº 5.700, de 1º de setembro de 1971, que dispõe sobre a forma e a apresentação dos Símbolos Nacionais e dá outras providências.\"},{\"id\":19886,\"uri\":\"https://dadosabertos.camara.leg.br/api/v2/proposicoes/19886\",\"siglaTipo\":\"PL\",\"codTipo\":139,\"numero\":3587,\"ano\":2000,\"ementa\":\"Dispõe sobre aerolevantamento e levantamento espacial no território nacional, e dá outras providências.\"},{\"id\":20718,\"uri\":\"https://dadosabertos.camara.leg.br/api/v2/proposicoes/20718\",\"siglaTipo\":\"PL\",\"codTipo\":139,\"numero\":4186,\"ano\":1998,\"ementa\":\"Modifica a Lei nº 9.612, de 19 de fevereiro de 1998, que \\\"Institui o Serviço de Radiodifusão Comunitária e dá outras providências\\\".\"},{\"id\":20888,\"uri\":\"https://dadosabertos.camara.leg.br/api/v2/proposicoes/20888\",\"siglaTipo\":\"PL\",\"codTipo\":139,\"numero\":4445,\"ano\":1998,\"ementa\":\"Revoga a Lei nº 7.960, de 1989 que dispõe sobre prisão temporária.\"},{\"id\":20956,\"uri\":\"https://dadosabertos.camara.leg.br/api/v2/proposicoes/20956\",\"siglaTipo\":\"PL\",\"codTipo\":139,\"numero\":4550,\"ano\":1998,\"ementa\":\"Altera o art. 389 do Decreto-Lei nº 5.452, de 1º de maio de 1943 (Consolidação das Leis do Trabalho - CLT).\"},{\"id\":336532,\"uri\":\"https://dadosabertos.camara.leg.br/api/v2/proposicoes/336532\",\"siglaTipo\":\"PL\",\"codTipo\":139,\"numero\":7576,\"ano\":2006,\"ementa\":\"Altera a Lei nº 9.250, de 26 de dezembro de 1995, que altera a legislação do imposto de renda das pessoas físicas e dá outras providências, para fixar prazo e encargos financeiros relativos ao valor a restituir do imposto de renda das pessoas físicas pago a maior.\"},{\"id\":339301,\"uri\":\"https://dadosabertos.camara.leg.br/api/v2/proposicoes/339301\",\"siglaTipo\":\"PL\",\"codTipo\":139,\"numero\":7700,\"ano\":2006,\"ementa\":\"Altera o art. 2º da Lei nº 11.096, de 13 de janeiro de 2005, para estender o atendimento do Programa Universidade para Todos aos estudantes beneficiados com bolsa parcial no ensino médio privado.\"},{\"id\":340144,\"uri\":\"https://dadosabertos.camara.leg.br/api/v2/proposicoes/340144\",\"siglaTipo\":\"PL\",\"codTipo\":139,\"numero\":64,\"ano\":2007,\"ementa\":\"Cria o Índice Nacional de Responsabilidade Social - INRS e o Cadastro Nacional de Inadimplentes Sociais - CNIS.\"},{\"id\":345103,\"uri\":\"https://dadosabertos.camara.leg.br/api/v2/proposicoes/345103\",\"siglaTipo\":\"PL\",\"codTipo\":139,\"numero\":478,\"ano\":2007,\"ementa\":\"Dispõe sobre o Estatuto do Nascituro e dá outras providências.\"},{\"id\":359891,\"uri\":\"https://dadosabertos.camara.leg.br/api/v2/proposicoes/359891\",\"siglaTipo\":\"PL\",\"codTipo\":139,\"numero\":1609,\"ano\":2007,\"ementa\":\"Dispõe sobre a substituição gradativa, em todo o território nacional, de combustíveis derivados de petróleo por outros produzidos a partir da biomassa, e dá outras providências.\"},{\"id\":363834,\"uri\":\"https://dadosabertos.camara.leg.br/api/v2/proposicoes/363834\",\"siglaTipo\":\"PL\",\"codTipo\":139,\"numero\":1836,\"ano\":2007,\"ementa\":\"Altera o § 1º do art. 19-I da Lei nº 8.080, de 19 de setembro de 1990, incluído pela Lei nº 10.424, de 15 de abril de 2002, para acrescentar ao Sistema Único de Saúde - SUS o fornecimento de medicamentos de uso continuado não sujeitos a controle especial, entre outros, necessários ao cuidado integral dos pacientes em seu domicílio.\"},{\"id\":404399,\"uri\":\"https://dadosabertos.camara.leg.br/api/v2/proposicoes/404399\",\"siglaTipo\":\"PL\",\"codTipo\":139,\"numero\":3723,\"ano\":2008,\"ementa\":\"Dispõe sobre o tratamento tributário aplicável às sociedades cooperativas em geral no âmbito federal.\"},{\"id\":415684,\"uri\":\"https://dadosabertos.camara.leg.br/api/v2/proposicoes/415684\",\"siglaTipo\":\"PL\",\"codTipo\":139,\"numero\":4294,\"ano\":2008,\"ementa\":\"Acrescenta parágrafo ao art. 1.632 da Lei nº 10.406, de 10 de janeiro de 2002 -  Código Civil e ao art. 3° da Lei nº 10.741, de 1ª de outubro de 2003 - Estatuto do Idoso,  de modo a estabelecer a indenização por dano moral em razão do abandono afetivo.\"}],\"links\":[{\"rel\":\"self\",\"href\":\"https://dadosabertos.camara.leg.br/api/v2/proposicoes?siglaTipo=PEC&amp;siglaTipo=PLP&amp;siglaTipo=PL&amp;dataInicio=2021-09-21&amp;dataFim=2021-09-24&amp;ordem=ASC&amp;ordenarPor=id\"},{\"rel\":\"next\",\"href\":\"https://dadosabertos.camara.leg.br/api/v2/proposicoes?siglaTipo=PEC&amp;siglaTipo=PLP&amp;siglaTipo=PL&amp;dataInicio=2021-09-21&amp;dataFim=2021-09-24&amp;ordem=ASC&amp;ordenarPor=id&amp;pagina=2&amp;itens=15\"},{\"rel\":\"first\",\"href\":\"https://dadosabertos.camara.leg.br/api/v2/proposicoes?siglaTipo=PEC&amp;siglaTipo=PLP&amp;siglaTipo=PL&amp;dataInicio=2021-09-21&amp;dataFim=2021-09-24&amp;ordem=ASC&amp;ordenarPor=id&amp;pagina=1&amp;itens=15\"},{\"rel\":\"last\",\"href\":\"https://dadosabertos.camara.leg.br/api/v2/proposicoes?siglaTipo=PEC&amp;siglaTipo=PLP&amp;siglaTipo=PL&amp;dataInicio=2021-09-21&amp;dataFim=2021-09-24&amp;ordem=ASC&amp;ordenarPor=id&amp;pagina=58&amp;itens=15\"}]}\n",
    "\n",
    "del pdict [\"links\"]\n",
    "pdict"
   ]
  },
  {
   "cell_type": "code",
   "execution_count": 20,
   "id": "3f5eb1a9",
   "metadata": {},
   "outputs": [
    {
     "name": "stdout",
     "output_type": "stream",
     "text": [
      "[{'id': 15419, 'uri': 'https://dadosabertos.camara.leg.br/api/v2/proposicoes/15419', 'siglaTipo': 'PL', 'codTipo': 139, 'numero': 407, 'ano': 1999, 'ementa': 'Dá nova redação ao art. 7º e ao art. 12 da Lei nº 8.935, de 18 de novembro de 1994, ampliando a competência dos oficiais de registro civil das pessoas naturais e de interdições e tutelas.'}, {'id': 15646, 'uri': 'https://dadosabertos.camara.leg.br/api/v2/proposicoes/15646', 'siglaTipo': 'PL', 'codTipo': 139, 'numero': 606, 'ano': 1999, 'ementa': 'Dispõe sobre a suspensão do pagamento das prestações habitacionais do Sistema Financeiro da Habitação pelos mutuários desempregados das Regiões Norte, Nordeste e Centro-Oeste.'}, {'id': 19217, 'uri': 'https://dadosabertos.camara.leg.br/api/v2/proposicoes/19217', 'siglaTipo': 'PL', 'codTipo': 139, 'numero': 3174, 'ano': 1997, 'ementa': 'Altera a Lei nº 5.700, de 1º de setembro de 1971, que dispõe sobre a forma e a apresentação dos Símbolos Nacionais e dá outras providências.'}, {'id': 19886, 'uri': 'https://dadosabertos.camara.leg.br/api/v2/proposicoes/19886', 'siglaTipo': 'PL', 'codTipo': 139, 'numero': 3587, 'ano': 2000, 'ementa': 'Dispõe sobre aerolevantamento e levantamento espacial no território nacional, e dá outras providências.'}, {'id': 20718, 'uri': 'https://dadosabertos.camara.leg.br/api/v2/proposicoes/20718', 'siglaTipo': 'PL', 'codTipo': 139, 'numero': 4186, 'ano': 1998, 'ementa': 'Modifica a Lei nº 9.612, de 19 de fevereiro de 1998, que \"Institui o Serviço de Radiodifusão Comunitária e dá outras providências\".'}, {'id': 20888, 'uri': 'https://dadosabertos.camara.leg.br/api/v2/proposicoes/20888', 'siglaTipo': 'PL', 'codTipo': 139, 'numero': 4445, 'ano': 1998, 'ementa': 'Revoga a Lei nº 7.960, de 1989 que dispõe sobre prisão temporária.'}, {'id': 20956, 'uri': 'https://dadosabertos.camara.leg.br/api/v2/proposicoes/20956', 'siglaTipo': 'PL', 'codTipo': 139, 'numero': 4550, 'ano': 1998, 'ementa': 'Altera o art. 389 do Decreto-Lei nº 5.452, de 1º de maio de 1943 (Consolidação das Leis do Trabalho - CLT).'}, {'id': 336532, 'uri': 'https://dadosabertos.camara.leg.br/api/v2/proposicoes/336532', 'siglaTipo': 'PL', 'codTipo': 139, 'numero': 7576, 'ano': 2006, 'ementa': 'Altera a Lei nº 9.250, de 26 de dezembro de 1995, que altera a legislação do imposto de renda das pessoas físicas e dá outras providências, para fixar prazo e encargos financeiros relativos ao valor a restituir do imposto de renda das pessoas físicas pago a maior.'}, {'id': 339301, 'uri': 'https://dadosabertos.camara.leg.br/api/v2/proposicoes/339301', 'siglaTipo': 'PL', 'codTipo': 139, 'numero': 7700, 'ano': 2006, 'ementa': 'Altera o art. 2º da Lei nº 11.096, de 13 de janeiro de 2005, para estender o atendimento do Programa Universidade para Todos aos estudantes beneficiados com bolsa parcial no ensino médio privado.'}, {'id': 340144, 'uri': 'https://dadosabertos.camara.leg.br/api/v2/proposicoes/340144', 'siglaTipo': 'PL', 'codTipo': 139, 'numero': 64, 'ano': 2007, 'ementa': 'Cria o Índice Nacional de Responsabilidade Social - INRS e o Cadastro Nacional de Inadimplentes Sociais - CNIS.'}, {'id': 345103, 'uri': 'https://dadosabertos.camara.leg.br/api/v2/proposicoes/345103', 'siglaTipo': 'PL', 'codTipo': 139, 'numero': 478, 'ano': 2007, 'ementa': 'Dispõe sobre o Estatuto do Nascituro e dá outras providências.'}, {'id': 359891, 'uri': 'https://dadosabertos.camara.leg.br/api/v2/proposicoes/359891', 'siglaTipo': 'PL', 'codTipo': 139, 'numero': 1609, 'ano': 2007, 'ementa': 'Dispõe sobre a substituição gradativa, em todo o território nacional, de combustíveis derivados de petróleo por outros produzidos a partir da biomassa, e dá outras providências.'}, {'id': 363834, 'uri': 'https://dadosabertos.camara.leg.br/api/v2/proposicoes/363834', 'siglaTipo': 'PL', 'codTipo': 139, 'numero': 1836, 'ano': 2007, 'ementa': 'Altera o § 1º do art. 19-I da Lei nº 8.080, de 19 de setembro de 1990, incluído pela Lei nº 10.424, de 15 de abril de 2002, para acrescentar ao Sistema Único de Saúde - SUS o fornecimento de medicamentos de uso continuado não sujeitos a controle especial, entre outros, necessários ao cuidado integral dos pacientes em seu domicílio.'}, {'id': 404399, 'uri': 'https://dadosabertos.camara.leg.br/api/v2/proposicoes/404399', 'siglaTipo': 'PL', 'codTipo': 139, 'numero': 3723, 'ano': 2008, 'ementa': 'Dispõe sobre o tratamento tributário aplicável às sociedades cooperativas em geral no âmbito federal.'}, {'id': 415684, 'uri': 'https://dadosabertos.camara.leg.br/api/v2/proposicoes/415684', 'siglaTipo': 'PL', 'codTipo': 139, 'numero': 4294, 'ano': 2008, 'ementa': 'Acrescenta parágrafo ao art. 1.632 da Lei nº 10.406, de 10 de janeiro de 2002 -  Código Civil e ao art. 3° da Lei nº 10.741, de 1ª de outubro de 2003 - Estatuto do Idoso,  de modo a estabelecer a indenização por dano moral em razão do abandono afetivo.'}]\n"
     ]
    }
   ],
   "source": [
    "print(pdict['dados'])"
   ]
  },
  {
   "cell_type": "code",
   "execution_count": 21,
   "id": "c9551220",
   "metadata": {},
   "outputs": [],
   "source": [
    "# Preparação dos dados"
   ]
  },
  {
   "cell_type": "code",
   "execution_count": 22,
   "id": "dea5c36d",
   "metadata": {},
   "outputs": [],
   "source": [
    "pdata = [{'id': 15419, 'uri': 'https://dadosabertos.camara.leg.br/api/v2/proposicoes/15419', 'siglaTipo': 'PL', 'codTipo': 139, 'numero': 407, 'ano': 1999, 'ementa': 'Dá nova redação ao art. 7º e ao art. 12 da Lei nº 8.935, de 18 de novembro de 1994, ampliando a competência dos oficiais de registro civil das pessoas naturais e de interdições e tutelas.'}, {'id': 15646, 'uri': 'https://dadosabertos.camara.leg.br/api/v2/proposicoes/15646', 'siglaTipo': 'PL', 'codTipo': 139, 'numero': 606, 'ano': 1999, 'ementa': 'Dispõe sobre a suspensão do pagamento das prestações habitacionais do Sistema Financeiro da Habitação pelos mutuários desempregados das Regiões Norte, Nordeste e Centro-Oeste.'}, {'id': 19217, 'uri': 'https://dadosabertos.camara.leg.br/api/v2/proposicoes/19217', 'siglaTipo': 'PL', 'codTipo': 139, 'numero': 3174, 'ano': 1997, 'ementa': 'Altera a Lei nº 5.700, de 1º de setembro de 1971, que dispõe sobre a forma e a apresentação dos Símbolos Nacionais e dá outras providências.'}, {'id': 19886, 'uri': 'https://dadosabertos.camara.leg.br/api/v2/proposicoes/19886', 'siglaTipo': 'PL', 'codTipo': 139, 'numero': 3587, 'ano': 2000, 'ementa': 'Dispõe sobre aerolevantamento e levantamento espacial no território nacional, e dá outras providências.'}, {'id': 20718, 'uri': 'https://dadosabertos.camara.leg.br/api/v2/proposicoes/20718', 'siglaTipo': 'PL', 'codTipo': 139, 'numero': 4186, 'ano': 1998, 'ementa': 'Modifica a Lei nº 9.612, de 19 de fevereiro de 1998, que \"Institui o Serviço de Radiodifusão Comunitária e dá outras providências\".'}, {'id': 20888, 'uri': 'https://dadosabertos.camara.leg.br/api/v2/proposicoes/20888', 'siglaTipo': 'PL', 'codTipo': 139, 'numero': 4445, 'ano': 1998, 'ementa': 'Revoga a Lei nº 7.960, de 1989 que dispõe sobre prisão temporária.'}, {'id': 20956, 'uri': 'https://dadosabertos.camara.leg.br/api/v2/proposicoes/20956', 'siglaTipo': 'PL', 'codTipo': 139, 'numero': 4550, 'ano': 1998, 'ementa': 'Altera o art. 389 do Decreto-Lei nº 5.452, de 1º de maio de 1943 (Consolidação das Leis do Trabalho - CLT).'}, {'id': 336532, 'uri': 'https://dadosabertos.camara.leg.br/api/v2/proposicoes/336532', 'siglaTipo': 'PL', 'codTipo': 139, 'numero': 7576, 'ano': 2006, 'ementa': 'Altera a Lei nº 9.250, de 26 de dezembro de 1995, que altera a legislação do imposto de renda das pessoas físicas e dá outras providências, para fixar prazo e encargos financeiros relativos ao valor a restituir do imposto de renda das pessoas físicas pago a maior.'}, {'id': 339301, 'uri': 'https://dadosabertos.camara.leg.br/api/v2/proposicoes/339301', 'siglaTipo': 'PL', 'codTipo': 139, 'numero': 7700, 'ano': 2006, 'ementa': 'Altera o art. 2º da Lei nº 11.096, de 13 de janeiro de 2005, para estender o atendimento do Programa Universidade para Todos aos estudantes beneficiados com bolsa parcial no ensino médio privado.'}, {'id': 340144, 'uri': 'https://dadosabertos.camara.leg.br/api/v2/proposicoes/340144', 'siglaTipo': 'PL', 'codTipo': 139, 'numero': 64, 'ano': 2007, 'ementa': 'Cria o Índice Nacional de Responsabilidade Social - INRS e o Cadastro Nacional de Inadimplentes Sociais - CNIS.'}, {'id': 345103, 'uri': 'https://dadosabertos.camara.leg.br/api/v2/proposicoes/345103', 'siglaTipo': 'PL', 'codTipo': 139, 'numero': 478, 'ano': 2007, 'ementa': 'Dispõe sobre o Estatuto do Nascituro e dá outras providências.'}, {'id': 359891, 'uri': 'https://dadosabertos.camara.leg.br/api/v2/proposicoes/359891', 'siglaTipo': 'PL', 'codTipo': 139, 'numero': 1609, 'ano': 2007, 'ementa': 'Dispõe sobre a substituição gradativa, em todo o território nacional, de combustíveis derivados de petróleo por outros produzidos a partir da biomassa, e dá outras providências.'}, {'id': 363834, 'uri': 'https://dadosabertos.camara.leg.br/api/v2/proposicoes/363834', 'siglaTipo': 'PL', 'codTipo': 139, 'numero': 1836, 'ano': 2007, 'ementa': 'Altera o § 1º do art. 19-I da Lei nº 8.080, de 19 de setembro de 1990, incluído pela Lei nº 10.424, de 15 de abril de 2002, para acrescentar ao Sistema Único de Saúde - SUS o fornecimento de medicamentos de uso continuado não sujeitos a controle especial, entre outros, necessários ao cuidado integral dos pacientes em seu domicílio.'}, {'id': 404399, 'uri': 'https://dadosabertos.camara.leg.br/api/v2/proposicoes/404399', 'siglaTipo': 'PL', 'codTipo': 139, 'numero': 3723, 'ano': 2008, 'ementa': 'Dispõe sobre o tratamento tributário aplicável às sociedades cooperativas em geral no âmbito federal.'}, {'id': 415684, 'uri': 'https://dadosabertos.camara.leg.br/api/v2/proposicoes/415684', 'siglaTipo': 'PL', 'codTipo': 139, 'numero': 4294, 'ano': 2008, 'ementa': 'Acrescenta parágrafo ao art. 1.632 da Lei nº 10.406, de 10 de janeiro de 2002 -  Código Civil e ao art. 3° da Lei nº 10.741, de 1ª de outubro de 2003 - Estatuto do Idoso,  de modo a estabelecer a indenização por dano moral em razão do abandono afetivo.'}]"
   ]
  },
  {
   "cell_type": "code",
   "execution_count": 23,
   "id": "bd6e9456",
   "metadata": {},
   "outputs": [],
   "source": [
    "# Criação do dataframe"
   ]
  },
  {
   "cell_type": "code",
   "execution_count": 24,
   "id": "19ba9762",
   "metadata": {},
   "outputs": [
    {
     "data": {
      "text/html": [
       "<div>\n",
       "<style scoped>\n",
       "    .dataframe tbody tr th:only-of-type {\n",
       "        vertical-align: middle;\n",
       "    }\n",
       "\n",
       "    .dataframe tbody tr th {\n",
       "        vertical-align: top;\n",
       "    }\n",
       "\n",
       "    .dataframe thead th {\n",
       "        text-align: right;\n",
       "    }\n",
       "</style>\n",
       "<table border=\"1\" class=\"dataframe\">\n",
       "  <thead>\n",
       "    <tr style=\"text-align: right;\">\n",
       "      <th></th>\n",
       "      <th>id</th>\n",
       "      <th>uri</th>\n",
       "      <th>siglaTipo</th>\n",
       "      <th>codTipo</th>\n",
       "      <th>numero</th>\n",
       "      <th>ano</th>\n",
       "      <th>ementa</th>\n",
       "    </tr>\n",
       "  </thead>\n",
       "  <tbody>\n",
       "    <tr>\n",
       "      <th>0</th>\n",
       "      <td>15419</td>\n",
       "      <td>https://dadosabertos.camara.leg.br/api/v2/prop...</td>\n",
       "      <td>PL</td>\n",
       "      <td>139</td>\n",
       "      <td>407</td>\n",
       "      <td>1999</td>\n",
       "      <td>Dá nova redação ao art. 7º e ao art. 12 da Lei...</td>\n",
       "    </tr>\n",
       "    <tr>\n",
       "      <th>1</th>\n",
       "      <td>15646</td>\n",
       "      <td>https://dadosabertos.camara.leg.br/api/v2/prop...</td>\n",
       "      <td>PL</td>\n",
       "      <td>139</td>\n",
       "      <td>606</td>\n",
       "      <td>1999</td>\n",
       "      <td>Dispõe sobre a suspensão do pagamento das pres...</td>\n",
       "    </tr>\n",
       "    <tr>\n",
       "      <th>2</th>\n",
       "      <td>19217</td>\n",
       "      <td>https://dadosabertos.camara.leg.br/api/v2/prop...</td>\n",
       "      <td>PL</td>\n",
       "      <td>139</td>\n",
       "      <td>3174</td>\n",
       "      <td>1997</td>\n",
       "      <td>Altera a Lei nº 5.700, de 1º de setembro de 19...</td>\n",
       "    </tr>\n",
       "    <tr>\n",
       "      <th>3</th>\n",
       "      <td>19886</td>\n",
       "      <td>https://dadosabertos.camara.leg.br/api/v2/prop...</td>\n",
       "      <td>PL</td>\n",
       "      <td>139</td>\n",
       "      <td>3587</td>\n",
       "      <td>2000</td>\n",
       "      <td>Dispõe sobre aerolevantamento e levantamento e...</td>\n",
       "    </tr>\n",
       "    <tr>\n",
       "      <th>4</th>\n",
       "      <td>20718</td>\n",
       "      <td>https://dadosabertos.camara.leg.br/api/v2/prop...</td>\n",
       "      <td>PL</td>\n",
       "      <td>139</td>\n",
       "      <td>4186</td>\n",
       "      <td>1998</td>\n",
       "      <td>Modifica a Lei nº 9.612, de 19 de fevereiro de...</td>\n",
       "    </tr>\n",
       "    <tr>\n",
       "      <th>5</th>\n",
       "      <td>20888</td>\n",
       "      <td>https://dadosabertos.camara.leg.br/api/v2/prop...</td>\n",
       "      <td>PL</td>\n",
       "      <td>139</td>\n",
       "      <td>4445</td>\n",
       "      <td>1998</td>\n",
       "      <td>Revoga a Lei nº 7.960, de 1989 que dispõe sobr...</td>\n",
       "    </tr>\n",
       "    <tr>\n",
       "      <th>6</th>\n",
       "      <td>20956</td>\n",
       "      <td>https://dadosabertos.camara.leg.br/api/v2/prop...</td>\n",
       "      <td>PL</td>\n",
       "      <td>139</td>\n",
       "      <td>4550</td>\n",
       "      <td>1998</td>\n",
       "      <td>Altera o art. 389 do Decreto-Lei nº 5.452, de ...</td>\n",
       "    </tr>\n",
       "    <tr>\n",
       "      <th>7</th>\n",
       "      <td>336532</td>\n",
       "      <td>https://dadosabertos.camara.leg.br/api/v2/prop...</td>\n",
       "      <td>PL</td>\n",
       "      <td>139</td>\n",
       "      <td>7576</td>\n",
       "      <td>2006</td>\n",
       "      <td>Altera a Lei nº 9.250, de 26 de dezembro de 19...</td>\n",
       "    </tr>\n",
       "    <tr>\n",
       "      <th>8</th>\n",
       "      <td>339301</td>\n",
       "      <td>https://dadosabertos.camara.leg.br/api/v2/prop...</td>\n",
       "      <td>PL</td>\n",
       "      <td>139</td>\n",
       "      <td>7700</td>\n",
       "      <td>2006</td>\n",
       "      <td>Altera o art. 2º da Lei nº 11.096, de 13 de ja...</td>\n",
       "    </tr>\n",
       "    <tr>\n",
       "      <th>9</th>\n",
       "      <td>340144</td>\n",
       "      <td>https://dadosabertos.camara.leg.br/api/v2/prop...</td>\n",
       "      <td>PL</td>\n",
       "      <td>139</td>\n",
       "      <td>64</td>\n",
       "      <td>2007</td>\n",
       "      <td>Cria o Índice Nacional de Responsabilidade Soc...</td>\n",
       "    </tr>\n",
       "    <tr>\n",
       "      <th>10</th>\n",
       "      <td>345103</td>\n",
       "      <td>https://dadosabertos.camara.leg.br/api/v2/prop...</td>\n",
       "      <td>PL</td>\n",
       "      <td>139</td>\n",
       "      <td>478</td>\n",
       "      <td>2007</td>\n",
       "      <td>Dispõe sobre o Estatuto do Nascituro e dá outr...</td>\n",
       "    </tr>\n",
       "    <tr>\n",
       "      <th>11</th>\n",
       "      <td>359891</td>\n",
       "      <td>https://dadosabertos.camara.leg.br/api/v2/prop...</td>\n",
       "      <td>PL</td>\n",
       "      <td>139</td>\n",
       "      <td>1609</td>\n",
       "      <td>2007</td>\n",
       "      <td>Dispõe sobre a substituição gradativa, em todo...</td>\n",
       "    </tr>\n",
       "    <tr>\n",
       "      <th>12</th>\n",
       "      <td>363834</td>\n",
       "      <td>https://dadosabertos.camara.leg.br/api/v2/prop...</td>\n",
       "      <td>PL</td>\n",
       "      <td>139</td>\n",
       "      <td>1836</td>\n",
       "      <td>2007</td>\n",
       "      <td>Altera o § 1º do art. 19-I da Lei nº 8.080, de...</td>\n",
       "    </tr>\n",
       "    <tr>\n",
       "      <th>13</th>\n",
       "      <td>404399</td>\n",
       "      <td>https://dadosabertos.camara.leg.br/api/v2/prop...</td>\n",
       "      <td>PL</td>\n",
       "      <td>139</td>\n",
       "      <td>3723</td>\n",
       "      <td>2008</td>\n",
       "      <td>Dispõe sobre o tratamento tributário aplicável...</td>\n",
       "    </tr>\n",
       "    <tr>\n",
       "      <th>14</th>\n",
       "      <td>415684</td>\n",
       "      <td>https://dadosabertos.camara.leg.br/api/v2/prop...</td>\n",
       "      <td>PL</td>\n",
       "      <td>139</td>\n",
       "      <td>4294</td>\n",
       "      <td>2008</td>\n",
       "      <td>Acrescenta parágrafo ao art. 1.632 da Lei nº 1...</td>\n",
       "    </tr>\n",
       "  </tbody>\n",
       "</table>\n",
       "</div>"
      ],
      "text/plain": [
       "        id                                                uri siglaTipo  \\\n",
       "0    15419  https://dadosabertos.camara.leg.br/api/v2/prop...        PL   \n",
       "1    15646  https://dadosabertos.camara.leg.br/api/v2/prop...        PL   \n",
       "2    19217  https://dadosabertos.camara.leg.br/api/v2/prop...        PL   \n",
       "3    19886  https://dadosabertos.camara.leg.br/api/v2/prop...        PL   \n",
       "4    20718  https://dadosabertos.camara.leg.br/api/v2/prop...        PL   \n",
       "5    20888  https://dadosabertos.camara.leg.br/api/v2/prop...        PL   \n",
       "6    20956  https://dadosabertos.camara.leg.br/api/v2/prop...        PL   \n",
       "7   336532  https://dadosabertos.camara.leg.br/api/v2/prop...        PL   \n",
       "8   339301  https://dadosabertos.camara.leg.br/api/v2/prop...        PL   \n",
       "9   340144  https://dadosabertos.camara.leg.br/api/v2/prop...        PL   \n",
       "10  345103  https://dadosabertos.camara.leg.br/api/v2/prop...        PL   \n",
       "11  359891  https://dadosabertos.camara.leg.br/api/v2/prop...        PL   \n",
       "12  363834  https://dadosabertos.camara.leg.br/api/v2/prop...        PL   \n",
       "13  404399  https://dadosabertos.camara.leg.br/api/v2/prop...        PL   \n",
       "14  415684  https://dadosabertos.camara.leg.br/api/v2/prop...        PL   \n",
       "\n",
       "    codTipo  numero   ano                                             ementa  \n",
       "0       139     407  1999  Dá nova redação ao art. 7º e ao art. 12 da Lei...  \n",
       "1       139     606  1999  Dispõe sobre a suspensão do pagamento das pres...  \n",
       "2       139    3174  1997  Altera a Lei nº 5.700, de 1º de setembro de 19...  \n",
       "3       139    3587  2000  Dispõe sobre aerolevantamento e levantamento e...  \n",
       "4       139    4186  1998  Modifica a Lei nº 9.612, de 19 de fevereiro de...  \n",
       "5       139    4445  1998  Revoga a Lei nº 7.960, de 1989 que dispõe sobr...  \n",
       "6       139    4550  1998  Altera o art. 389 do Decreto-Lei nº 5.452, de ...  \n",
       "7       139    7576  2006  Altera a Lei nº 9.250, de 26 de dezembro de 19...  \n",
       "8       139    7700  2006  Altera o art. 2º da Lei nº 11.096, de 13 de ja...  \n",
       "9       139      64  2007  Cria o Índice Nacional de Responsabilidade Soc...  \n",
       "10      139     478  2007  Dispõe sobre o Estatuto do Nascituro e dá outr...  \n",
       "11      139    1609  2007  Dispõe sobre a substituição gradativa, em todo...  \n",
       "12      139    1836  2007  Altera o § 1º do art. 19-I da Lei nº 8.080, de...  \n",
       "13      139    3723  2008  Dispõe sobre o tratamento tributário aplicável...  \n",
       "14      139    4294  2008  Acrescenta parágrafo ao art. 1.632 da Lei nº 1...  "
      ]
     },
     "execution_count": 24,
     "metadata": {},
     "output_type": "execute_result"
    }
   ],
   "source": [
    "pframe = pd.DataFrame.from_dict(pdata)\n",
    "pframe"
   ]
  },
  {
   "cell_type": "code",
   "execution_count": 25,
   "id": "b57756e2",
   "metadata": {},
   "outputs": [],
   "source": [
    "# PARTE 3\n",
    "# Geração do código MD5 - um exemplo"
   ]
  },
  {
   "cell_type": "code",
   "execution_count": 26,
   "id": "8e539616",
   "metadata": {},
   "outputs": [
    {
     "name": "stdout",
     "output_type": "stream",
     "text": [
      "MD5: 1a2223bf1d524b4a201f49bb3d51cea6\n"
     ]
    }
   ],
   "source": [
    "import hashlib\n",
    "\n",
    "id_15419 = 'https://dadosabertos.camara.leg.br/api/v2/proposicoes/15419'\n",
    "phash = id_15419\n",
    "\n",
    "phash = 'https://dadosabertos.camara.leg.br/api/v2/proposicoes/15419'.encode()\n",
    "print('MD5:', hashlib.md5(phash).hexdigest())"
   ]
  },
  {
   "cell_type": "code",
   "execution_count": 27,
   "id": "b39ad856",
   "metadata": {},
   "outputs": [],
   "source": [
    "# PARTE 4\n",
    "# Exportação do dataframe e armazenamento"
   ]
  },
  {
   "cell_type": "code",
   "execution_count": null,
   "id": "046e83b5",
   "metadata": {},
   "outputs": [],
   "source": [
    "pframe.to_csv('D:\\pidsg\\Documentos\\GitHub\\data-projects\\CDBot-Project\\proposicoes.csv')"
   ]
  }
 ],
 "metadata": {
  "kernelspec": {
   "display_name": "Python 3 (ipykernel)",
   "language": "python",
   "name": "python3"
  },
  "language_info": {
   "codemirror_mode": {
    "name": "ipython",
    "version": 3
   },
   "file_extension": ".py",
   "mimetype": "text/x-python",
   "name": "python",
   "nbconvert_exporter": "python",
   "pygments_lexer": "ipython3",
   "version": "3.9.7"
  }
 },
 "nbformat": 4,
 "nbformat_minor": 5
}
