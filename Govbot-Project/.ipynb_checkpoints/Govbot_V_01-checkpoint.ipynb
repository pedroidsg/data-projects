{
 "cells": [
  {
   "cell_type": "code",
   "execution_count": 1,
   "id": "adc91ba4",
   "metadata": {},
   "outputs": [],
   "source": [
    "# PROJETO Govbot"
   ]
  },
  {
   "cell_type": "code",
   "execution_count": 2,
   "id": "82064552",
   "metadata": {},
   "outputs": [],
   "source": [
    "# PARTE 1\n",
    "# Operações Básicas"
   ]
  },
  {
   "cell_type": "code",
   "execution_count": 4,
   "id": "e35da494",
   "metadata": {},
   "outputs": [],
   "source": [
    "import pandas as pd\n",
    "govbot = pd.read_csv ('govbot_v_01.csv', sep=',', encoding='utf-8')"
   ]
  },
  {
   "cell_type": "code",
   "execution_count": 5,
   "id": "94ec47e3",
   "metadata": {},
   "outputs": [
    {
     "name": "stdout",
     "output_type": "stream",
     "text": [
      "      NOME  INÍCIO PAÍS NÍVEL SETOR PÚBLICO OBJETIVO LING    DEV    ORG ATIVO\n",
      "0   Bot_01    2017  GER  mun.  gov.   todos   e-serv   DE  públ.  públ.   SIM\n",
      "1   Bot_02    2016  USA  nac.   SFL   todos   e-part   EN  priv.    SFL     -\n",
      "2   Bot_03    2016  USA  nac.   SFL   todos   e-part   EN  priv.    SFL     -\n",
      "3   Bot_04    2015  FRA  nac.  gov.   todos   e-serv   FR  priv.  públ.   SIM\n",
      "4   Bot_05    2015  FRA  nac.  gov.   todos   e-serv   FR  priv.  públ.   SIM\n",
      "5   Bot_06    2014  POL  reg.  gov.   todos   e-serv   PL  priv.  públ.   SIM\n",
      "6   Bot_07    2014  ARG  mun.  gov.   todos   e-serv   ES  priv.  públ.   SIM\n",
      "7   Bot_08    2013  FRA  nac.  gov.   todos   e-serv   FR  priv.  públ.   SIM\n",
      "8   Bot_09    2013  SIN  nac.  gov.   todos   e-serv   EN  priv.  públ.   SIM\n",
      "9   Bot_10    2010  FRA  nac.  gov.   todos   e-serv   FR  priv.  públ.   SIM\n",
      "10  Bot_11    2013  FRA  nac.  gov.   todos   e-serv   FR  priv.  públ.   SIM\n",
      "11  Bot_12    2013  ARG  mun.  gov.   todos   e-serv   ES  priv.  públ.   SIM\n",
      "12  Bot_13    2012  FRA  nac.  gov.   todos   e-serv   FR  priv.  públ.   SIM\n",
      "13  Bot_14    2012  ARG  int.   ONG   todos   e-serv   ES  priv.   SFL.   SIM\n",
      "14  Bot_15    2012  POL  mun.  gov.   todos   e-serv   PL  priv.  públ.   SIM\n",
      "15  Bot_16    2012  POL  mun.  gov.   todos   e-serv   PL  priv.  públ.   SIM\n",
      "16  Bot_17    2012  POL  reg.  gov.   todos   e-serv   PL  priv.  públ.   SIM\n",
      "17  Bot_18    2012  POL  nac.  gov.   todos   e-serv   PL  priv.  públ.   SIM\n",
      "18  Bot_19    2012  POL  reg.  gov.   todos   e-serv   PL  priv.  públ.   SIM\n",
      "19  Bot_20    2012  POL  mun.  gov.   todos   e-serv   PL  priv.  públ.   SIM\n",
      "20  Bot_21    2012  FRA  nac.  gov.   todos   e-serv   FR  priv.  públ.   SIM\n",
      "21  Bot_22    2012  ESP  reg.  gov.   todos   e-serv   ES  priv.  públ.   NÃO\n",
      "22  Bot_23    2012  USA  nac.   SFL   todos   e-part   EN  priv.  priv.   SIM\n",
      "23  Bot_24    2011  GBR  nac.  gov.   todos   e-serv   EN  priv.  públ.   NÃO\n",
      "24  Bot_25    2011  POL  nac.  gov.   todos   e-serv   PL  priv.  públ.   SIM\n",
      "25  Bot_26    2011  ARG  reg.  gov.   todos   e-serv   ES  priv.  públ.   NÃO\n",
      "26  Bot_27    2011  ESP  reg.  gov.    adm.   e-serv   ES  priv.  públ.   SIM\n",
      "27  Bot_28    2010  POL  nac.   SFL   todos   e-part   PL  priv.    SFL   SIM\n",
      "28  Bot_29    2010  POR  nac.  gov.   todos   e-serv   PT  priv.  públ.   SIM\n",
      "29  Bot_30    2009  FRA  nac.  gov.    esp.   e-serv   FR  priv.  públ.   SIM\n"
     ]
    }
   ],
   "source": [
    "print(govbot)"
   ]
  },
  {
   "cell_type": "code",
   "execution_count": 6,
   "id": "002ea67e",
   "metadata": {},
   "outputs": [
    {
     "name": "stdout",
     "output_type": "stream",
     "text": [
      "<class 'pandas.core.frame.DataFrame'>\n",
      "RangeIndex: 30 entries, 0 to 29\n",
      "Data columns (total 11 columns):\n",
      " #   Column    Non-Null Count  Dtype \n",
      "---  ------    --------------  ----- \n",
      " 0   NOME      30 non-null     object\n",
      " 1   INÍCIO    30 non-null     int64 \n",
      " 2   PAÍS      30 non-null     object\n",
      " 3   NÍVEL     30 non-null     object\n",
      " 4   SETOR     30 non-null     object\n",
      " 5   PÚBLICO   30 non-null     object\n",
      " 6   OBJETIVO  30 non-null     object\n",
      " 7   LING      30 non-null     object\n",
      " 8   DEV       30 non-null     object\n",
      " 9   ORG       30 non-null     object\n",
      " 10  ATIVO     30 non-null     object\n",
      "dtypes: int64(1), object(10)\n",
      "memory usage: 2.7+ KB\n"
     ]
    }
   ],
   "source": [
    "govbot.info()"
   ]
  },
  {
   "cell_type": "code",
   "execution_count": 7,
   "id": "acbe95c7",
   "metadata": {},
   "outputs": [
    {
     "data": {
      "text/html": [
       "<div>\n",
       "<style scoped>\n",
       "    .dataframe tbody tr th:only-of-type {\n",
       "        vertical-align: middle;\n",
       "    }\n",
       "\n",
       "    .dataframe tbody tr th {\n",
       "        vertical-align: top;\n",
       "    }\n",
       "\n",
       "    .dataframe thead th {\n",
       "        text-align: right;\n",
       "    }\n",
       "</style>\n",
       "<table border=\"1\" class=\"dataframe\">\n",
       "  <thead>\n",
       "    <tr style=\"text-align: right;\">\n",
       "      <th></th>\n",
       "      <th>NOME</th>\n",
       "      <th>INÍCIO</th>\n",
       "      <th>PAÍS</th>\n",
       "      <th>NÍVEL</th>\n",
       "      <th>SETOR</th>\n",
       "      <th>PÚBLICO</th>\n",
       "      <th>OBJETIVO</th>\n",
       "      <th>LING</th>\n",
       "      <th>DEV</th>\n",
       "      <th>ORG</th>\n",
       "      <th>ATIVO</th>\n",
       "    </tr>\n",
       "  </thead>\n",
       "  <tbody>\n",
       "    <tr>\n",
       "      <th>0</th>\n",
       "      <td>Bot_01</td>\n",
       "      <td>2017</td>\n",
       "      <td>GER</td>\n",
       "      <td>mun.</td>\n",
       "      <td>gov.</td>\n",
       "      <td>todos</td>\n",
       "      <td>e-serv</td>\n",
       "      <td>DE</td>\n",
       "      <td>públ.</td>\n",
       "      <td>públ.</td>\n",
       "      <td>SIM</td>\n",
       "    </tr>\n",
       "    <tr>\n",
       "      <th>1</th>\n",
       "      <td>Bot_02</td>\n",
       "      <td>2016</td>\n",
       "      <td>USA</td>\n",
       "      <td>nac.</td>\n",
       "      <td>SFL</td>\n",
       "      <td>todos</td>\n",
       "      <td>e-part</td>\n",
       "      <td>EN</td>\n",
       "      <td>priv.</td>\n",
       "      <td>SFL</td>\n",
       "      <td>-</td>\n",
       "    </tr>\n",
       "    <tr>\n",
       "      <th>2</th>\n",
       "      <td>Bot_03</td>\n",
       "      <td>2016</td>\n",
       "      <td>USA</td>\n",
       "      <td>nac.</td>\n",
       "      <td>SFL</td>\n",
       "      <td>todos</td>\n",
       "      <td>e-part</td>\n",
       "      <td>EN</td>\n",
       "      <td>priv.</td>\n",
       "      <td>SFL</td>\n",
       "      <td>-</td>\n",
       "    </tr>\n",
       "    <tr>\n",
       "      <th>3</th>\n",
       "      <td>Bot_04</td>\n",
       "      <td>2015</td>\n",
       "      <td>FRA</td>\n",
       "      <td>nac.</td>\n",
       "      <td>gov.</td>\n",
       "      <td>todos</td>\n",
       "      <td>e-serv</td>\n",
       "      <td>FR</td>\n",
       "      <td>priv.</td>\n",
       "      <td>públ.</td>\n",
       "      <td>SIM</td>\n",
       "    </tr>\n",
       "    <tr>\n",
       "      <th>4</th>\n",
       "      <td>Bot_05</td>\n",
       "      <td>2015</td>\n",
       "      <td>FRA</td>\n",
       "      <td>nac.</td>\n",
       "      <td>gov.</td>\n",
       "      <td>todos</td>\n",
       "      <td>e-serv</td>\n",
       "      <td>FR</td>\n",
       "      <td>priv.</td>\n",
       "      <td>públ.</td>\n",
       "      <td>SIM</td>\n",
       "    </tr>\n",
       "  </tbody>\n",
       "</table>\n",
       "</div>"
      ],
      "text/plain": [
       "     NOME  INÍCIO PAÍS NÍVEL SETOR PÚBLICO OBJETIVO LING    DEV    ORG ATIVO\n",
       "0  Bot_01    2017  GER  mun.  gov.   todos   e-serv   DE  públ.  públ.   SIM\n",
       "1  Bot_02    2016  USA  nac.   SFL   todos   e-part   EN  priv.    SFL     -\n",
       "2  Bot_03    2016  USA  nac.   SFL   todos   e-part   EN  priv.    SFL     -\n",
       "3  Bot_04    2015  FRA  nac.  gov.   todos   e-serv   FR  priv.  públ.   SIM\n",
       "4  Bot_05    2015  FRA  nac.  gov.   todos   e-serv   FR  priv.  públ.   SIM"
      ]
     },
     "execution_count": 7,
     "metadata": {},
     "output_type": "execute_result"
    }
   ],
   "source": [
    "govbot.head()"
   ]
  },
  {
   "cell_type": "code",
   "execution_count": 8,
   "id": "c5535a29",
   "metadata": {},
   "outputs": [
    {
     "data": {
      "text/html": [
       "<div>\n",
       "<style scoped>\n",
       "    .dataframe tbody tr th:only-of-type {\n",
       "        vertical-align: middle;\n",
       "    }\n",
       "\n",
       "    .dataframe tbody tr th {\n",
       "        vertical-align: top;\n",
       "    }\n",
       "\n",
       "    .dataframe thead th {\n",
       "        text-align: right;\n",
       "    }\n",
       "</style>\n",
       "<table border=\"1\" class=\"dataframe\">\n",
       "  <thead>\n",
       "    <tr style=\"text-align: right;\">\n",
       "      <th></th>\n",
       "      <th>NOME</th>\n",
       "      <th>INÍCIO</th>\n",
       "      <th>PAÍS</th>\n",
       "      <th>NÍVEL</th>\n",
       "      <th>SETOR</th>\n",
       "      <th>PÚBLICO</th>\n",
       "      <th>OBJETIVO</th>\n",
       "      <th>LING</th>\n",
       "      <th>DEV</th>\n",
       "      <th>ORG</th>\n",
       "      <th>ATIVO</th>\n",
       "    </tr>\n",
       "  </thead>\n",
       "  <tbody>\n",
       "    <tr>\n",
       "      <th>29</th>\n",
       "      <td>Bot_30</td>\n",
       "      <td>2009</td>\n",
       "      <td>FRA</td>\n",
       "      <td>nac.</td>\n",
       "      <td>gov.</td>\n",
       "      <td>esp.</td>\n",
       "      <td>e-serv</td>\n",
       "      <td>FR</td>\n",
       "      <td>priv.</td>\n",
       "      <td>públ.</td>\n",
       "      <td>SIM</td>\n",
       "    </tr>\n",
       "    <tr>\n",
       "      <th>27</th>\n",
       "      <td>Bot_28</td>\n",
       "      <td>2010</td>\n",
       "      <td>POL</td>\n",
       "      <td>nac.</td>\n",
       "      <td>SFL</td>\n",
       "      <td>todos</td>\n",
       "      <td>e-part</td>\n",
       "      <td>PL</td>\n",
       "      <td>priv.</td>\n",
       "      <td>SFL</td>\n",
       "      <td>SIM</td>\n",
       "    </tr>\n",
       "    <tr>\n",
       "      <th>9</th>\n",
       "      <td>Bot_10</td>\n",
       "      <td>2010</td>\n",
       "      <td>FRA</td>\n",
       "      <td>nac.</td>\n",
       "      <td>gov.</td>\n",
       "      <td>todos</td>\n",
       "      <td>e-serv</td>\n",
       "      <td>FR</td>\n",
       "      <td>priv.</td>\n",
       "      <td>públ.</td>\n",
       "      <td>SIM</td>\n",
       "    </tr>\n",
       "    <tr>\n",
       "      <th>28</th>\n",
       "      <td>Bot_29</td>\n",
       "      <td>2010</td>\n",
       "      <td>POR</td>\n",
       "      <td>nac.</td>\n",
       "      <td>gov.</td>\n",
       "      <td>todos</td>\n",
       "      <td>e-serv</td>\n",
       "      <td>PT</td>\n",
       "      <td>priv.</td>\n",
       "      <td>públ.</td>\n",
       "      <td>SIM</td>\n",
       "    </tr>\n",
       "    <tr>\n",
       "      <th>26</th>\n",
       "      <td>Bot_27</td>\n",
       "      <td>2011</td>\n",
       "      <td>ESP</td>\n",
       "      <td>reg.</td>\n",
       "      <td>gov.</td>\n",
       "      <td>adm.</td>\n",
       "      <td>e-serv</td>\n",
       "      <td>ES</td>\n",
       "      <td>priv.</td>\n",
       "      <td>públ.</td>\n",
       "      <td>SIM</td>\n",
       "    </tr>\n",
       "    <tr>\n",
       "      <th>25</th>\n",
       "      <td>Bot_26</td>\n",
       "      <td>2011</td>\n",
       "      <td>ARG</td>\n",
       "      <td>reg.</td>\n",
       "      <td>gov.</td>\n",
       "      <td>todos</td>\n",
       "      <td>e-serv</td>\n",
       "      <td>ES</td>\n",
       "      <td>priv.</td>\n",
       "      <td>públ.</td>\n",
       "      <td>NÃO</td>\n",
       "    </tr>\n",
       "    <tr>\n",
       "      <th>24</th>\n",
       "      <td>Bot_25</td>\n",
       "      <td>2011</td>\n",
       "      <td>POL</td>\n",
       "      <td>nac.</td>\n",
       "      <td>gov.</td>\n",
       "      <td>todos</td>\n",
       "      <td>e-serv</td>\n",
       "      <td>PL</td>\n",
       "      <td>priv.</td>\n",
       "      <td>públ.</td>\n",
       "      <td>SIM</td>\n",
       "    </tr>\n",
       "    <tr>\n",
       "      <th>23</th>\n",
       "      <td>Bot_24</td>\n",
       "      <td>2011</td>\n",
       "      <td>GBR</td>\n",
       "      <td>nac.</td>\n",
       "      <td>gov.</td>\n",
       "      <td>todos</td>\n",
       "      <td>e-serv</td>\n",
       "      <td>EN</td>\n",
       "      <td>priv.</td>\n",
       "      <td>públ.</td>\n",
       "      <td>NÃO</td>\n",
       "    </tr>\n",
       "    <tr>\n",
       "      <th>22</th>\n",
       "      <td>Bot_23</td>\n",
       "      <td>2012</td>\n",
       "      <td>USA</td>\n",
       "      <td>nac.</td>\n",
       "      <td>SFL</td>\n",
       "      <td>todos</td>\n",
       "      <td>e-part</td>\n",
       "      <td>EN</td>\n",
       "      <td>priv.</td>\n",
       "      <td>priv.</td>\n",
       "      <td>SIM</td>\n",
       "    </tr>\n",
       "    <tr>\n",
       "      <th>21</th>\n",
       "      <td>Bot_22</td>\n",
       "      <td>2012</td>\n",
       "      <td>ESP</td>\n",
       "      <td>reg.</td>\n",
       "      <td>gov.</td>\n",
       "      <td>todos</td>\n",
       "      <td>e-serv</td>\n",
       "      <td>ES</td>\n",
       "      <td>priv.</td>\n",
       "      <td>públ.</td>\n",
       "      <td>NÃO</td>\n",
       "    </tr>\n",
       "    <tr>\n",
       "      <th>20</th>\n",
       "      <td>Bot_21</td>\n",
       "      <td>2012</td>\n",
       "      <td>FRA</td>\n",
       "      <td>nac.</td>\n",
       "      <td>gov.</td>\n",
       "      <td>todos</td>\n",
       "      <td>e-serv</td>\n",
       "      <td>FR</td>\n",
       "      <td>priv.</td>\n",
       "      <td>públ.</td>\n",
       "      <td>SIM</td>\n",
       "    </tr>\n",
       "    <tr>\n",
       "      <th>19</th>\n",
       "      <td>Bot_20</td>\n",
       "      <td>2012</td>\n",
       "      <td>POL</td>\n",
       "      <td>mun.</td>\n",
       "      <td>gov.</td>\n",
       "      <td>todos</td>\n",
       "      <td>e-serv</td>\n",
       "      <td>PL</td>\n",
       "      <td>priv.</td>\n",
       "      <td>públ.</td>\n",
       "      <td>SIM</td>\n",
       "    </tr>\n",
       "    <tr>\n",
       "      <th>18</th>\n",
       "      <td>Bot_19</td>\n",
       "      <td>2012</td>\n",
       "      <td>POL</td>\n",
       "      <td>reg.</td>\n",
       "      <td>gov.</td>\n",
       "      <td>todos</td>\n",
       "      <td>e-serv</td>\n",
       "      <td>PL</td>\n",
       "      <td>priv.</td>\n",
       "      <td>públ.</td>\n",
       "      <td>SIM</td>\n",
       "    </tr>\n",
       "    <tr>\n",
       "      <th>17</th>\n",
       "      <td>Bot_18</td>\n",
       "      <td>2012</td>\n",
       "      <td>POL</td>\n",
       "      <td>nac.</td>\n",
       "      <td>gov.</td>\n",
       "      <td>todos</td>\n",
       "      <td>e-serv</td>\n",
       "      <td>PL</td>\n",
       "      <td>priv.</td>\n",
       "      <td>públ.</td>\n",
       "      <td>SIM</td>\n",
       "    </tr>\n",
       "    <tr>\n",
       "      <th>16</th>\n",
       "      <td>Bot_17</td>\n",
       "      <td>2012</td>\n",
       "      <td>POL</td>\n",
       "      <td>reg.</td>\n",
       "      <td>gov.</td>\n",
       "      <td>todos</td>\n",
       "      <td>e-serv</td>\n",
       "      <td>PL</td>\n",
       "      <td>priv.</td>\n",
       "      <td>públ.</td>\n",
       "      <td>SIM</td>\n",
       "    </tr>\n",
       "    <tr>\n",
       "      <th>14</th>\n",
       "      <td>Bot_15</td>\n",
       "      <td>2012</td>\n",
       "      <td>POL</td>\n",
       "      <td>mun.</td>\n",
       "      <td>gov.</td>\n",
       "      <td>todos</td>\n",
       "      <td>e-serv</td>\n",
       "      <td>PL</td>\n",
       "      <td>priv.</td>\n",
       "      <td>públ.</td>\n",
       "      <td>SIM</td>\n",
       "    </tr>\n",
       "    <tr>\n",
       "      <th>13</th>\n",
       "      <td>Bot_14</td>\n",
       "      <td>2012</td>\n",
       "      <td>ARG</td>\n",
       "      <td>int.</td>\n",
       "      <td>ONG</td>\n",
       "      <td>todos</td>\n",
       "      <td>e-serv</td>\n",
       "      <td>ES</td>\n",
       "      <td>priv.</td>\n",
       "      <td>SFL.</td>\n",
       "      <td>SIM</td>\n",
       "    </tr>\n",
       "    <tr>\n",
       "      <th>12</th>\n",
       "      <td>Bot_13</td>\n",
       "      <td>2012</td>\n",
       "      <td>FRA</td>\n",
       "      <td>nac.</td>\n",
       "      <td>gov.</td>\n",
       "      <td>todos</td>\n",
       "      <td>e-serv</td>\n",
       "      <td>FR</td>\n",
       "      <td>priv.</td>\n",
       "      <td>públ.</td>\n",
       "      <td>SIM</td>\n",
       "    </tr>\n",
       "    <tr>\n",
       "      <th>15</th>\n",
       "      <td>Bot_16</td>\n",
       "      <td>2012</td>\n",
       "      <td>POL</td>\n",
       "      <td>mun.</td>\n",
       "      <td>gov.</td>\n",
       "      <td>todos</td>\n",
       "      <td>e-serv</td>\n",
       "      <td>PL</td>\n",
       "      <td>priv.</td>\n",
       "      <td>públ.</td>\n",
       "      <td>SIM</td>\n",
       "    </tr>\n",
       "    <tr>\n",
       "      <th>11</th>\n",
       "      <td>Bot_12</td>\n",
       "      <td>2013</td>\n",
       "      <td>ARG</td>\n",
       "      <td>mun.</td>\n",
       "      <td>gov.</td>\n",
       "      <td>todos</td>\n",
       "      <td>e-serv</td>\n",
       "      <td>ES</td>\n",
       "      <td>priv.</td>\n",
       "      <td>públ.</td>\n",
       "      <td>SIM</td>\n",
       "    </tr>\n",
       "    <tr>\n",
       "      <th>10</th>\n",
       "      <td>Bot_11</td>\n",
       "      <td>2013</td>\n",
       "      <td>FRA</td>\n",
       "      <td>nac.</td>\n",
       "      <td>gov.</td>\n",
       "      <td>todos</td>\n",
       "      <td>e-serv</td>\n",
       "      <td>FR</td>\n",
       "      <td>priv.</td>\n",
       "      <td>públ.</td>\n",
       "      <td>SIM</td>\n",
       "    </tr>\n",
       "    <tr>\n",
       "      <th>8</th>\n",
       "      <td>Bot_09</td>\n",
       "      <td>2013</td>\n",
       "      <td>SIN</td>\n",
       "      <td>nac.</td>\n",
       "      <td>gov.</td>\n",
       "      <td>todos</td>\n",
       "      <td>e-serv</td>\n",
       "      <td>EN</td>\n",
       "      <td>priv.</td>\n",
       "      <td>públ.</td>\n",
       "      <td>SIM</td>\n",
       "    </tr>\n",
       "    <tr>\n",
       "      <th>7</th>\n",
       "      <td>Bot_08</td>\n",
       "      <td>2013</td>\n",
       "      <td>FRA</td>\n",
       "      <td>nac.</td>\n",
       "      <td>gov.</td>\n",
       "      <td>todos</td>\n",
       "      <td>e-serv</td>\n",
       "      <td>FR</td>\n",
       "      <td>priv.</td>\n",
       "      <td>públ.</td>\n",
       "      <td>SIM</td>\n",
       "    </tr>\n",
       "    <tr>\n",
       "      <th>6</th>\n",
       "      <td>Bot_07</td>\n",
       "      <td>2014</td>\n",
       "      <td>ARG</td>\n",
       "      <td>mun.</td>\n",
       "      <td>gov.</td>\n",
       "      <td>todos</td>\n",
       "      <td>e-serv</td>\n",
       "      <td>ES</td>\n",
       "      <td>priv.</td>\n",
       "      <td>públ.</td>\n",
       "      <td>SIM</td>\n",
       "    </tr>\n",
       "    <tr>\n",
       "      <th>5</th>\n",
       "      <td>Bot_06</td>\n",
       "      <td>2014</td>\n",
       "      <td>POL</td>\n",
       "      <td>reg.</td>\n",
       "      <td>gov.</td>\n",
       "      <td>todos</td>\n",
       "      <td>e-serv</td>\n",
       "      <td>PL</td>\n",
       "      <td>priv.</td>\n",
       "      <td>públ.</td>\n",
       "      <td>SIM</td>\n",
       "    </tr>\n",
       "    <tr>\n",
       "      <th>4</th>\n",
       "      <td>Bot_05</td>\n",
       "      <td>2015</td>\n",
       "      <td>FRA</td>\n",
       "      <td>nac.</td>\n",
       "      <td>gov.</td>\n",
       "      <td>todos</td>\n",
       "      <td>e-serv</td>\n",
       "      <td>FR</td>\n",
       "      <td>priv.</td>\n",
       "      <td>públ.</td>\n",
       "      <td>SIM</td>\n",
       "    </tr>\n",
       "    <tr>\n",
       "      <th>3</th>\n",
       "      <td>Bot_04</td>\n",
       "      <td>2015</td>\n",
       "      <td>FRA</td>\n",
       "      <td>nac.</td>\n",
       "      <td>gov.</td>\n",
       "      <td>todos</td>\n",
       "      <td>e-serv</td>\n",
       "      <td>FR</td>\n",
       "      <td>priv.</td>\n",
       "      <td>públ.</td>\n",
       "      <td>SIM</td>\n",
       "    </tr>\n",
       "    <tr>\n",
       "      <th>2</th>\n",
       "      <td>Bot_03</td>\n",
       "      <td>2016</td>\n",
       "      <td>USA</td>\n",
       "      <td>nac.</td>\n",
       "      <td>SFL</td>\n",
       "      <td>todos</td>\n",
       "      <td>e-part</td>\n",
       "      <td>EN</td>\n",
       "      <td>priv.</td>\n",
       "      <td>SFL</td>\n",
       "      <td>-</td>\n",
       "    </tr>\n",
       "    <tr>\n",
       "      <th>1</th>\n",
       "      <td>Bot_02</td>\n",
       "      <td>2016</td>\n",
       "      <td>USA</td>\n",
       "      <td>nac.</td>\n",
       "      <td>SFL</td>\n",
       "      <td>todos</td>\n",
       "      <td>e-part</td>\n",
       "      <td>EN</td>\n",
       "      <td>priv.</td>\n",
       "      <td>SFL</td>\n",
       "      <td>-</td>\n",
       "    </tr>\n",
       "    <tr>\n",
       "      <th>0</th>\n",
       "      <td>Bot_01</td>\n",
       "      <td>2017</td>\n",
       "      <td>GER</td>\n",
       "      <td>mun.</td>\n",
       "      <td>gov.</td>\n",
       "      <td>todos</td>\n",
       "      <td>e-serv</td>\n",
       "      <td>DE</td>\n",
       "      <td>públ.</td>\n",
       "      <td>públ.</td>\n",
       "      <td>SIM</td>\n",
       "    </tr>\n",
       "  </tbody>\n",
       "</table>\n",
       "</div>"
      ],
      "text/plain": [
       "      NOME  INÍCIO PAÍS NÍVEL SETOR PÚBLICO OBJETIVO LING    DEV    ORG ATIVO\n",
       "29  Bot_30    2009  FRA  nac.  gov.    esp.   e-serv   FR  priv.  públ.   SIM\n",
       "27  Bot_28    2010  POL  nac.   SFL   todos   e-part   PL  priv.    SFL   SIM\n",
       "9   Bot_10    2010  FRA  nac.  gov.   todos   e-serv   FR  priv.  públ.   SIM\n",
       "28  Bot_29    2010  POR  nac.  gov.   todos   e-serv   PT  priv.  públ.   SIM\n",
       "26  Bot_27    2011  ESP  reg.  gov.    adm.   e-serv   ES  priv.  públ.   SIM\n",
       "25  Bot_26    2011  ARG  reg.  gov.   todos   e-serv   ES  priv.  públ.   NÃO\n",
       "24  Bot_25    2011  POL  nac.  gov.   todos   e-serv   PL  priv.  públ.   SIM\n",
       "23  Bot_24    2011  GBR  nac.  gov.   todos   e-serv   EN  priv.  públ.   NÃO\n",
       "22  Bot_23    2012  USA  nac.   SFL   todos   e-part   EN  priv.  priv.   SIM\n",
       "21  Bot_22    2012  ESP  reg.  gov.   todos   e-serv   ES  priv.  públ.   NÃO\n",
       "20  Bot_21    2012  FRA  nac.  gov.   todos   e-serv   FR  priv.  públ.   SIM\n",
       "19  Bot_20    2012  POL  mun.  gov.   todos   e-serv   PL  priv.  públ.   SIM\n",
       "18  Bot_19    2012  POL  reg.  gov.   todos   e-serv   PL  priv.  públ.   SIM\n",
       "17  Bot_18    2012  POL  nac.  gov.   todos   e-serv   PL  priv.  públ.   SIM\n",
       "16  Bot_17    2012  POL  reg.  gov.   todos   e-serv   PL  priv.  públ.   SIM\n",
       "14  Bot_15    2012  POL  mun.  gov.   todos   e-serv   PL  priv.  públ.   SIM\n",
       "13  Bot_14    2012  ARG  int.   ONG   todos   e-serv   ES  priv.   SFL.   SIM\n",
       "12  Bot_13    2012  FRA  nac.  gov.   todos   e-serv   FR  priv.  públ.   SIM\n",
       "15  Bot_16    2012  POL  mun.  gov.   todos   e-serv   PL  priv.  públ.   SIM\n",
       "11  Bot_12    2013  ARG  mun.  gov.   todos   e-serv   ES  priv.  públ.   SIM\n",
       "10  Bot_11    2013  FRA  nac.  gov.   todos   e-serv   FR  priv.  públ.   SIM\n",
       "8   Bot_09    2013  SIN  nac.  gov.   todos   e-serv   EN  priv.  públ.   SIM\n",
       "7   Bot_08    2013  FRA  nac.  gov.   todos   e-serv   FR  priv.  públ.   SIM\n",
       "6   Bot_07    2014  ARG  mun.  gov.   todos   e-serv   ES  priv.  públ.   SIM\n",
       "5   Bot_06    2014  POL  reg.  gov.   todos   e-serv   PL  priv.  públ.   SIM\n",
       "4   Bot_05    2015  FRA  nac.  gov.   todos   e-serv   FR  priv.  públ.   SIM\n",
       "3   Bot_04    2015  FRA  nac.  gov.   todos   e-serv   FR  priv.  públ.   SIM\n",
       "2   Bot_03    2016  USA  nac.   SFL   todos   e-part   EN  priv.    SFL     -\n",
       "1   Bot_02    2016  USA  nac.   SFL   todos   e-part   EN  priv.    SFL     -\n",
       "0   Bot_01    2017  GER  mun.  gov.   todos   e-serv   DE  públ.  públ.   SIM"
      ]
     },
     "execution_count": 8,
     "metadata": {},
     "output_type": "execute_result"
    }
   ],
   "source": [
    "govbot.sort_values(by='INÍCIO', ascending=True)"
   ]
  },
  {
   "cell_type": "code",
   "execution_count": 10,
   "id": "64b8a092",
   "metadata": {},
   "outputs": [
    {
     "data": {
      "text/plain": [
       "POL    9\n",
       "FRA    8\n",
       "ARG    4\n",
       "USA    3\n",
       "ESP    2\n",
       "GER    1\n",
       "SIN    1\n",
       "GBR    1\n",
       "POR    1\n",
       "Name: PAÍS, dtype: int64"
      ]
     },
     "execution_count": 10,
     "metadata": {},
     "output_type": "execute_result"
    }
   ],
   "source": [
    "govbot['PAÍS'].value_counts()"
   ]
  },
  {
   "cell_type": "code",
   "execution_count": 11,
   "id": "3764901f",
   "metadata": {},
   "outputs": [
    {
     "data": {
      "text/plain": [
       "POL    0.300000\n",
       "FRA    0.266667\n",
       "ARG    0.133333\n",
       "USA    0.100000\n",
       "ESP    0.066667\n",
       "GER    0.033333\n",
       "SIN    0.033333\n",
       "GBR    0.033333\n",
       "POR    0.033333\n",
       "Name: PAÍS, dtype: float64"
      ]
     },
     "execution_count": 11,
     "metadata": {},
     "output_type": "execute_result"
    }
   ],
   "source": [
    "govbot['PAÍS'].value_counts(normalize=True)"
   ]
  },
  {
   "cell_type": "code",
   "execution_count": 12,
   "id": "4cea8fa5",
   "metadata": {},
   "outputs": [],
   "source": [
    "# PARTE 2\n",
    "# Operações com Gráficos"
   ]
  },
  {
   "cell_type": "code",
   "execution_count": 13,
   "id": "fdaf132d",
   "metadata": {},
   "outputs": [],
   "source": [
    "import numpy as np\n",
    "import matplotlib.pyplot as plt\n",
    "import seaborn as sns"
   ]
  },
  {
   "cell_type": "code",
   "execution_count": 14,
   "id": "7879105f",
   "metadata": {},
   "outputs": [
    {
     "data": {
      "text/plain": [
       "<AxesSubplot:title={'center':'Percentual de chatbots por governo / país'}>"
      ]
     },
     "execution_count": 14,
     "metadata": {},
     "output_type": "execute_result"
    },
    {
     "data": {
      "image/png": "[encoded data removed]",
      "text/plain": [
       "<Figure size 432x288 with 1 Axes>"
      ]
     },
     "metadata": {
      "needs_background": "light"
     },
     "output_type": "display_data"
    }
   ],
   "source": [
    "govbot['PAÍS'].value_counts().plot.bar(title='Percentual de chatbots por governo / país')"
   ]
  },
  {
   "cell_type": "code",
   "execution_count": 15,
   "id": "93eb123d",
   "metadata": {},
   "outputs": [
    {
     "data": {
      "image/png": "[encoded data removed]",
      "text/plain": [
       "<Figure size 432x288 with 1 Axes>"
      ]
     },
     "metadata": {
      "needs_background": "light"
     },
     "output_type": "display_data"
    }
   ],
   "source": [
    "govbot['PAÍS'].value_counts().plot.bar()\n",
    "plt.title('Percentual de chatbots por governo / país',fontsize=14,color='black')\n",
    "plt.xlabel('Países avaliados',fontsize=10,color='green')\n",
    "plt.ylabel('Níveis de adesão à tecnologia chatbot',fontsize=10,color='green')\n",
    "plt.rcParams ['xtick.labelsize'] = 14\n",
    "plt.rcParams ['ytick.labelsize'] = 14"
   ]
  },
  {
   "cell_type": "code",
   "execution_count": 16,
   "id": "daadc113",
   "metadata": {},
   "outputs": [
    {
     "data": {
      "image/png": "[encoded data removed]",
      "text/plain": [
       "<Figure size 432x288 with 1 Axes>"
      ]
     },
     "metadata": {
      "needs_background": "light"
     },
     "output_type": "display_data"
    }
   ],
   "source": [
    "govbot.boxplot(column='INÍCIO', color='blue')\n",
    "plt.rcParams ['xtick.labelsize'] = 10\n",
    "plt.rcParams ['ytick.labelsize'] = 10\n",
    "plt.show()"
   ]
  },
  {
   "cell_type": "code",
   "execution_count": 18,
   "id": "e28e0588",
   "metadata": {},
   "outputs": [
    {
     "data": {
      "image/png": "[encoded data removed]",
      "text/plain": [
       "<Figure size 360x360 with 1 Axes>"
      ]
     },
     "metadata": {
      "needs_background": "light"
     },
     "output_type": "display_data"
    }
   ],
   "source": [
    "sns.catplot(x=\"INÍCIO\",kind='box',data=govbot,color='blue')\n",
    "plt.title(\"Concentração de chatbots por ano de início de atividade\")\n",
    "plt.xlabel('INÍCIO')\n",
    "plt.ylabel('ATIVIDADE')\n",
    "plt.show()"
   ]
  },
  {
   "cell_type": "code",
   "execution_count": 19,
   "id": "b62f03d2",
   "metadata": {},
   "outputs": [
    {
     "data": {
      "image/png": "[encoded data removed]",
      "text/plain": [
       "<Figure size 360x360 with 1 Axes>"
      ]
     },
     "metadata": {
      "needs_background": "light"
     },
     "output_type": "display_data"
    }
   ],
   "source": [
    "sns.catplot(x=\"NÍVEL\",data=govbot)\n",
    "plt.title('Concentração de chatbots por nível de governo',fontsize=14,color='black')\n",
    "plt.show()"
   ]
  },
  {
   "cell_type": "code",
   "execution_count": 20,
   "id": "fd09635e",
   "metadata": {},
   "outputs": [
    {
     "data": {
      "image/png": "[encoded data removed]",
      "text/plain": [
       "<Figure size 360x360 with 1 Axes>"
      ]
     },
     "metadata": {
      "needs_background": "light"
     },
     "output_type": "display_data"
    }
   ],
   "source": [
    "sns.displot(govbot['PÚBLICO'],bins= 30,color='blue')\n",
    "plt.title('Atendimento por tipo de público',fontsize=14,color='black')\n",
    "plt.show()"
   ]
  },
  {
   "cell_type": "code",
   "execution_count": 21,
   "id": "b17256d3",
   "metadata": {},
   "outputs": [
    {
     "data": {
      "image/png": "[encoded data removed]",
      "text/plain": [
       "<Figure size 432x288 with 1 Axes>"
      ]
     },
     "metadata": {
      "needs_background": "light"
     },
     "output_type": "display_data"
    }
   ],
   "source": [
    "sns.stripplot(data=govbot, x='SETOR',y='PAÍS')\n",
    "plt.title('Países e concentração de chatbots governamentais por setor',fontsize=14,color='black')\n",
    "plt.show()"
   ]
  },
  {
   "cell_type": "code",
   "execution_count": 22,
   "id": "faf4e589",
   "metadata": {},
   "outputs": [],
   "source": [
    "# Conclusão"
   ]
  }
 ],
 "metadata": {
  "kernelspec": {
   "display_name": "Python 3 (ipykernel)",
   "language": "python",
   "name": "python3"
  },
  "language_info": {
   "codemirror_mode": {
    "name": "ipython",
    "version": 3
   },
   "file_extension": ".py",
   "mimetype": "text/x-python",
   "name": "python",
   "nbconvert_exporter": "python",
   "pygments_lexer": "ipython3",
   "version": "3.9.7"
  }
 },
 "nbformat": 4,
 "nbformat_minor": 5
}
